{
 "cells": [
  {
   "cell_type": "code",
   "execution_count": 5,
   "id": "20c24e86-3b14-4b0b-9586-9fe892d9e330",
   "metadata": {},
   "outputs": [
    {
     "name": "stdin",
     "output_type": "stream",
     "text": [
      "Number of strings in bowl:  51\n"
     ]
    },
    {
     "name": "stdout",
     "output_type": "stream",
     "text": [
      "P(L_51=51) = 0.0\n",
      "P(L_51=1) = 0.1303\n"
     ]
    }
   ],
   "source": [
    "import numpy as np\n",
    "\n",
    "sims = 10000\n",
    "lengths = []\n",
    "while True:\n",
    "    try:\n",
    "        n = int(input(\"Number of strings in bowl: \"))\n",
    "        break\n",
    "    except ValueError:\n",
    "        print(\"Not a valid input. Please enter an integer.\")\n",
    "full_loops = 0\n",
    "single_loops = 0\n",
    "\n",
    "bowl = []\n",
    "for i in range(1, 2*n, 2):\n",
    "    bowl.append([i, i + 1])\n",
    "\n",
    "if n<=50:\n",
    "     print(f\"The initial bowl is: {bowl}\")\n",
    "\n",
    "for _ in range(sims):\n",
    "    ends = list(range(1,2*n+1))\n",
    "    bowl = []\n",
    "    for i in range(1, 2*n, 2):\n",
    "        bowl.append([i, i + 1])\n",
    "    loops = []\n",
    "    while len(ends) > 0:\n",
    "\n",
    "        pair = []\n",
    "        ends.sort()\n",
    "\n",
    "        first_choice = np.random.randint(0, len(ends))\n",
    "        pair.append(ends[first_choice])\n",
    "        ends.remove(ends[first_choice])\n",
    "\n",
    "        second_choice = np.random.randint(0, len(ends))\n",
    "        pair.append(ends[second_choice])\n",
    "        ends.remove(ends[second_choice])\n",
    "\n",
    "        pair.sort()\n",
    "\n",
    "        for string in bowl:\n",
    "            if pair[0] in string and pair[1] in string:\n",
    "                bowl.remove(string)\n",
    "                loops.append(string)\n",
    "                break\n",
    "\n",
    "        new = []\n",
    "        for string in bowl:\n",
    "            if pair[0] in string:\n",
    "                for i in range(len(string)):\n",
    "                    new.append(string[i])\n",
    "                bowl.remove(string)\n",
    "        for string in bowl:\n",
    "            if pair[1] in string:\n",
    "                for i in range(len(string)):\n",
    "                    new.append(string[i])\n",
    "                bowl.remove(string)\n",
    "                new.sort()\n",
    "                bowl.append(new)\n",
    "                break\n",
    "\n",
    "\n",
    "        if len(bowl) == 1:\n",
    "            loops.append(bowl[0])\n",
    "            bowl.remove(bowl[0])\n",
    "            \n",
    "    if len(loops) == 1:\n",
    "        full_loops += 1\n",
    "    elif len(loops) == n:\n",
    "        single_loops += 1\n",
    "        \n",
    "p = single_loops/sims\n",
    "print(f\"P(L_{n}={n}) = {p}\")\n",
    "q = full_loops/sims\n",
    "print(f\"P(L_{n}=1) = {q}\")"
   ]
  },
  {
   "cell_type": "code",
   "execution_count": 12,
   "id": "0a4366b5-1bfc-4ab7-bc61-c8bc63389c67",
   "metadata": {},
   "outputs": [
    {
     "data": {
      "image/png": "[encoded data removed]",
      "text/plain": [
       "<Figure size 432x288 with 1 Axes>"
      ]
     },
     "metadata": {
      "needs_background": "light"
     },
     "output_type": "display_data"
    }
   ],
   "source": [
    "import numpy as np\n",
    "import matplotlib.pyplot as plt\n",
    "\n",
    "n = 1000\n",
    "values = [1]\n",
    "\n",
    "prod = 1\n",
    "for i in range(2, n+1):\n",
    "    num = 2*i - 2\n",
    "    denom = 2*i - 1\n",
    "    prod *= num / denom\n",
    "    rounded = round(prod, 4)\n",
    "    values.append(rounded)\n",
    "\n",
    "steps = int(n/5)\n",
    "xticks = [1] + list(np.arange(steps,n+1,step=steps))\n",
    "plt.plot(range(1, n+1), values)\n",
    "plt.xlabel('n')\n",
    "plt.ylabel(r'$P(L_n=1)$')\n",
    "plt.title(r'Graph of $P(L_n=1)$ against n')\n",
    "plt.grid(True)\n",
    "plt.xticks(xticks)\n",
    "plt.show()  "
   ]
  },
  {
   "cell_type": "code",
   "execution_count": 10,
   "id": "848eb7b3-2a1b-4162-9cd9-5912c74f6e5c",
   "metadata": {},
   "outputs": [
    {
     "name": "stdin",
     "output_type": "stream",
     "text": [
      "Number of strings in bowl:  142\n"
     ]
    },
    {
     "name": "stdout",
     "output_type": "stream",
     "text": [
      "E[L_142] = 3.4421\n",
      "\n",
      "Time taken: 47.2528 seconds\n"
     ]
    }
   ],
   "source": [
    "import numpy as np\n",
    "import time\n",
    "\n",
    "s = time.time()\n",
    "\n",
    "sims = 10000  \n",
    "lengths = []\n",
    "while True:\n",
    "    try:\n",
    "        n = int(input(\"Number of strings in bowl: \"))\n",
    "        break\n",
    "    except ValueError:\n",
    "        print(\"Not a valid input. Please enter an integer.\")\n",
    "bowl = []\n",
    "for i in range(1, 2*n, 2):\n",
    "    bowl.append([i, i + 1])\n",
    "\n",
    "if n<=10:\n",
    "     print(f\"The initial bowl is: {bowl}\")\n",
    "\n",
    "for _ in range(sims):\n",
    "    ends = list(range(1,2*n+1))\n",
    "    bowl = []\n",
    "    for i in range(1, 2*n, 2):\n",
    "        bowl.append([i, i + 1])\n",
    "    loops = []\n",
    "    while len(ends) > 0:\n",
    "\n",
    "        pair = []\n",
    "        ends.sort()\n",
    "\n",
    "        first_choice = np.random.randint(0, len(ends))\n",
    "        pair.append(ends[first_choice])\n",
    "        ends.remove(ends[first_choice])\n",
    "\n",
    "        second_choice = np.random.randint(0, len(ends))\n",
    "        pair.append(ends[second_choice])\n",
    "        ends.remove(ends[second_choice])\n",
    "\n",
    "        pair.sort()\n",
    "\n",
    "        for string in bowl:\n",
    "            if pair[0] in string and pair[1] in string:\n",
    "                bowl.remove(string)\n",
    "                loops.append(string)\n",
    "                break\n",
    "\n",
    "        new = []\n",
    "        for string in bowl:\n",
    "            if pair[0] in string:\n",
    "                for i in range(len(string)):\n",
    "                    new.append(string[i])\n",
    "                bowl.remove(string)\n",
    "        for string in bowl:\n",
    "            if pair[1] in string:\n",
    "                for i in range(len(string)):\n",
    "                    new.append(string[i])\n",
    "                bowl.remove(string)\n",
    "                new.sort()\n",
    "                bowl.append(new)\n",
    "                break\n",
    "\n",
    "\n",
    "        if len(bowl) == 1:\n",
    "            loops.append(bowl[0])\n",
    "            bowl.remove(bowl[0])\n",
    "\n",
    "    lengths.append(len(loops))\n",
    "    if sims < 11 and n < 51:\n",
    "        print(f\"The loops created are: {loops}\")\n",
    "\n",
    "\n",
    "\n",
    "print(f\"E[L_{n}] = {sum(lengths)/len(lengths)}\")\n",
    "\n",
    "f = time.time()\n",
    "e = f - s\n",
    "print()\n",
    "print(f\"Time taken: {e:.4f} seconds\")"
   ]
  },
  {
   "cell_type": "code",
   "execution_count": 56,
   "id": "58af7a40-243d-4a9c-988e-c03c0628695e",
   "metadata": {
    "tags": []
   },
   "outputs": [
    {
     "data": {
      "image/png": "[encoded data removed]",
      "text/plain": [
       "<Figure size 576x360 with 1 Axes>"
      ]
     },
     "metadata": {
      "needs_background": "light"
     },
     "output_type": "display_data"
    }
   ],
   "source": [
    "import numpy as np\n",
    "import matplotlib.pyplot as plt\n",
    "\n",
    "\n",
    "EL_n = [1]\n",
    "k = 1000\n",
    "\n",
    "for i in range(k):\n",
    "    EL_n.append(round(EL_n[i] + (1 / (2 * i + 3)), 5))\n",
    "\n",
    "\n",
    "x_values = list(range(k + 1))\n",
    "\n",
    "\n",
    "plt.figure(figsize=(8, 5))\n",
    "plt.scatter(x_values, EL_n, color='b', marker='.', label=r\"$E[L_n]\\ values$\")\n",
    "\n",
    "\n",
    "plt.xlabel(r\"$n$\")\n",
    "plt.ylabel(r\"$E[L_n]$\")\n",
    "plt.title(r\"Plot of $E[L_n]$ against $n$\")\n",
    "plt.legend()\n",
    "plt.grid(True, linestyle=\"--\", alpha=0.6)\n",
    "\n",
    "\n",
    "plt.show()\n"
   ]
  },
  {
   "cell_type": "code",
   "execution_count": 13,
   "id": "bf960e34-a504-46f0-b362-f48a7959c0b0",
   "metadata": {},
   "outputs": [
    {
     "name": "stdout",
     "output_type": "stream",
     "text": [
      "Using matplotlib backend: Qt5Agg\n"
     ]
    }
   ],
   "source": [
    "import numpy as np\n",
    "import matplotlib.pyplot as plt\n",
    "from matplotlib.widgets import Slider\n",
    "%matplotlib\n",
    "\n",
    "def euler():\n",
    "    return 0.5772156649\n",
    "\n",
    "k = 100000\n",
    "EL_n = [1]\n",
    "for i in range(1, k + 1):\n",
    "    EL_n.append(round(EL_n[i - 1] + (1 / (2 * i + 1)), 8))\n",
    "\n",
    "x_values = np.arange(1, k + 1)\n",
    "\n",
    "fig, ax = plt.subplots(figsize=(8, 5))\n",
    "plt.subplots_adjust(bottom=0.25)\n",
    "\n",
    "k_factor_init = 1\n",
    "ln_values = np.log(k_factor_init * x_values)\n",
    "\n",
    "scatter_plot, = ax.plot(range(k + 1), EL_n, 'b.', markersize=1, label=r\"$E[L_n]$ values\")\n",
    "ln_plot, = ax.plot(x_values, ln_values, 'g-', label=r\"$y = \\log(kx)$\")\n",
    "ax.set_xlabel(r\"$n$\")\n",
    "ax.set_ylabel(r\"$E[L_n]$\")\n",
    "ax.set_title(r\"Plot of $E[L_n]$ and $E[L_n] =\\log(kn)$\")\n",
    "ax.legend()\n",
    "ax.grid(True, linestyle=\"--\", alpha=0.6)\n",
    "\n",
    "ax_slider = plt.axes([0.2, 0.05, 0.6, 0.03])\n",
    "slider = Slider(ax_slider, '$k$', valmin=0.1, valmax=5, valinit=1, valstep=0.1)\n",
    "\n",
    "def update(val):\n",
    "    k_factor = slider.val\n",
    "    ln_plot.set_ydata(np.log(k_factor * x_values))\n",
    "    fig.canvas.draw_idle()\n",
    "\n",
    "slider.on_changed(update)\n",
    "\n",
    "plt.show()"
   ]
  },
  {
   "cell_type": "code",
   "execution_count": 20,
   "id": "a0c5f4be-78b7-432a-ab4f-66f17caa4773",
   "metadata": {},
   "outputs": [
    {
     "name": "stdout",
     "output_type": "stream",
     "text": [
      "Using matplotlib backend: Qt5Agg\n"
     ]
    }
   ],
   "source": [
    "import numpy as np\n",
    "import matplotlib.pyplot as plt\n",
    "from matplotlib.widgets import Slider\n",
    "%matplotlib\n",
    "\n",
    "def euler():\n",
    "    return 0.5772156649\n",
    "\n",
    "k = 100000\n",
    "EL_n = [1]\n",
    "for i in range(1, k + 1):\n",
    "    EL_n.append(round(EL_n[i - 1] + (1 / (2 * i + 1)), 8))\n",
    "\n",
    "x_values = np.arange(1, k + 1)\n",
    "\n",
    "fig, ax = plt.subplots(figsize=(8, 5))\n",
    "plt.subplots_adjust(bottom=0.25)\n",
    "\n",
    "k_factor_init = 1\n",
    "ln_values = (1/k_factor)*np.log(k_factor_init * x_values)\n",
    "\n",
    "scatter_plot, = ax.plot(range(k + 1), EL_n, 'b.', markersize=1, label=r\"$E[L_n]$ values\")\n",
    "ln_plot, = ax.plot(x_values, ln_values, 'g-', label=r\"$y = \\frac{1}{k}\\log(kx)$\")\n",
    "ax.set_xlabel(r\"$n$\")\n",
    "ax.set_ylabel(r\"$E[L_n]$, $y$\")\n",
    "ax.set_title(r\"Plot of $E[L_n]$ and $y =\\frac{1}{k}\\log(kx)$\")\n",
    "ax.legend()\n",
    "ax.grid(True, linestyle=\"--\", alpha=0.6)\n",
    "\n",
    "ax_slider = plt.axes([0.2, 0.05, 0.6, 0.03])\n",
    "slider = Slider(ax_slider, '$k$', valmin=1, valmax=5, valinit=1, valstep=0.5)\n",
    "\n",
    "def update(val):\n",
    "    k_factor = slider.val\n",
    "    ln_plot.set_ydata((1/k_factor)*np.log(k_factor * x_values))\n",
    "    fig.canvas.draw_idle()\n",
    "\n",
    "slider.on_changed(update)\n",
    "\n",
    "plt.show()\n"
   ]
  },
  {
   "cell_type": "code",
   "execution_count": 12,
   "id": "b289b7aa-4aab-4b20-8daf-801d7eb1b6b2",
   "metadata": {
    "tags": []
   },
   "outputs": [
    {
     "data": {
      "image/png": "[encoded data removed]",
      "text/plain": [
       "<Figure size 576x360 with 1 Axes>"
      ]
     },
     "metadata": {
      "needs_background": "light"
     },
     "output_type": "display_data"
    }
   ],
   "source": [
    "import numpy as np\n",
    "import matplotlib.pyplot as plt\n",
    "\n",
    "def euler():\n",
    "    return 0.5772156649\n",
    "\n",
    "EL_n = [1]\n",
    "k = 10000\n",
    "\n",
    "for i in range(1, k + 1):\n",
    "    EL_n.append(round(EL_n[i - 1] + (1 / (2 * i + 1)), 8))\n",
    "\n",
    "x_values = np.arange(1, k + 1)\n",
    "y_values = 0.5 * np.log(4 * x_values) + 0.5*euler()\n",
    "\n",
    "plt.figure(figsize=(8, 5))\n",
    "plt.scatter(range(k + 1), EL_n, color='b', marker='.', label=r\"$E[L_n]$ values\")\n",
    "plt.plot(x_values, y_values, color='r', linestyle='--', label=r\"$\\frac{1}{2}log(4x)+\\frac{1}{2}\\gamma$\")\n",
    "\n",
    "plt.xlabel(r\"$n$\")\n",
    "plt.ylabel(r\"$E[L_n]$\")\n",
    "plt.title(r\"Plot of $E[L_n]$ and $y = \\frac{1}{2}log(4x)+\\frac{1}{2}\\gamma$\")\n",
    "plt.legend()\n",
    "plt.grid(True, linestyle=\"--\", alpha=0.6)\n",
    "\n",
    "plt.show()"
   ]
  },
  {
   "cell_type": "code",
   "execution_count": 38,
   "id": "b8444e9f-0698-4388-9125-ccd3eb0836aa",
   "metadata": {},
   "outputs": [],
   "source": []
  }
 ],
 "metadata": {
  "kernelspec": {
   "display_name": "Python 3 (ipykernel)",
   "language": "python",
   "name": "python3"
  },
  "language_info": {
   "codemirror_mode": {
    "name": "ipython",
    "version": 3
   },
   "file_extension": ".py",
   "mimetype": "text/x-python",
   "name": "python",
   "nbconvert_exporter": "python",
   "pygments_lexer": "ipython3",
   "version": "3.9.7"
  }
 },
 "nbformat": 4,
 "nbformat_minor": 5
}
