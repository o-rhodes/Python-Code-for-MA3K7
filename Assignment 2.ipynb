{
 "cells": [
  {
   "cell_type": "code",
   "execution_count": 4,
   "id": "2d161ce5-d73a-44e3-81a9-42296393bac5",
   "metadata": {},
   "outputs": [
    {
     "name": "stdout",
     "output_type": "stream",
     "text": [
      "Number of 2 x 2 matrices with zero determinant: 66501 out of 100000 trials\n",
      "Ratio of zero determinant matrices: 0.6650\n",
      "Number of 3 x 3 matrices with zero determinant: 43045 out of 100000 trials\n",
      "Ratio of zero determinant matrices: 0.4304\n",
      "Number of 4 x 4 matrices with zero determinant: 58782 out of 100000 trials\n",
      "Ratio of zero determinant matrices: 0.5878\n",
      "Number of 5 x 5 matrices with zero determinant: 55289 out of 100000 trials\n",
      "Ratio of zero determinant matrices: 0.5529\n",
      "Number of 6 x 6 matrices with zero determinant: 53948 out of 100000 trials\n",
      "Ratio of zero determinant matrices: 0.5395\n",
      "Number of 7 x 7 matrices with zero determinant: 47515 out of 100000 trials\n",
      "Ratio of zero determinant matrices: 0.4752\n",
      "Number of 8 x 8 matrices with zero determinant: 41010 out of 100000 trials\n",
      "Ratio of zero determinant matrices: 0.4101\n",
      "Number of 9 x 9 matrices with zero determinant: 32027 out of 100000 trials\n",
      "Ratio of zero determinant matrices: 0.3203\n",
      "Number of 10 x 10 matrices with zero determinant: 23648 out of 100000 trials\n",
      "Ratio of zero determinant matrices: 0.2365\n"
     ]
    }
   ],
   "source": [
    "import numpy as np\n",
    "\n",
    "\n",
    "for k in range(2,11):\n",
    "    trials = 100000\n",
    "    dim = k\n",
    "\n",
    "\n",
    "    second = dim * dim // 2\n",
    "    first = dim * dim - second\n",
    "\n",
    "    sing = 0\n",
    "\n",
    "    results = []\n",
    "    for i in range(trials):\n",
    "        matrix = [1] * first + [0] * second\n",
    "        np.random.shuffle(matrix)\n",
    "        M = np.array(matrix).reshape(dim, dim)\n",
    "        det = np.linalg.det(M)\n",
    "        results.append(det)\n",
    "\n",
    "        if det == 0:\n",
    "            sing += 1\n",
    "\n",
    "    ratio = sing/trials\n",
    "    print(f\"Number of {dim} x {dim} matrices with zero determinant: {sing} out of {trials} trials\")\n",
    "    print(f\"Ratio of zero determinant matrices: {ratio:.4f}\")"
   ]
  },
  {
   "cell_type": "code",
   "execution_count": null,
   "id": "847aaadf-3a28-45a5-9a1e-04d5374652d5",
   "metadata": {},
   "outputs": [],
   "source": []
  },
  {
   "cell_type": "code",
   "execution_count": null,
   "id": "c0da1908-8750-4947-9e0a-57d797945ff4",
   "metadata": {},
   "outputs": [],
   "source": []
  }
 ],
 "metadata": {
  "kernelspec": {
   "display_name": "Python 3 (ipykernel)",
   "language": "python",
   "name": "python3"
  },
  "language_info": {
   "codemirror_mode": {
    "name": "ipython",
    "version": 3
   },
   "file_extension": ".py",
   "mimetype": "text/x-python",
   "name": "python",
   "nbconvert_exporter": "python",
   "pygments_lexer": "ipython3",
   "version": "3.9.7"
  }
 },
 "nbformat": 4,
 "nbformat_minor": 5
}
