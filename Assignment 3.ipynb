{
 "cells": [
  {
   "cell_type": "code",
   "execution_count": 91,
   "id": "a3e51d01-23b1-43c7-920e-3b0a8cd8f534",
   "metadata": {},
   "outputs": [
    {
     "name": "stdout",
     "output_type": "stream",
     "text": [
      "All possible final results for each number of pieces:\n",
      "For 2 pieces: [1]\n",
      "For 3 pieces: [0, 2]\n",
      "For 4 pieces: [0, 2, 4]\n",
      "For 5 pieces: [1, 3, 5]\n",
      "For 6 pieces: [1, 3, 5]\n",
      "For 7 pieces: [0, 2, 4, 6]\n",
      "For 8 pieces: [0, 2, 4, 6, 8]\n",
      "For 9 pieces: [1, 3, 5, 7, 9]\n",
      "For 10 pieces: [1, 3, 5, 7, 9]\n",
      "For 11 pieces: [0, 2, 4, 6, 8, 10]\n",
      "For 12 pieces: [0, 2, 4, 6, 8, 10, 12]\n",
      "For 13 pieces: [1, 3, 5, 7, 9, 11, 13]\n",
      "For 14 pieces: [1, 3, 5, 7, 9, 11, 13]\n",
      "For 15 pieces: [0, 2, 4, 6, 8, 10, 12, 14]\n",
      "For 16 pieces: [0, 2, 4, 6, 8, 10, 12, 14, 16]\n",
      "For 17 pieces: [1, 3, 5, 7, 9, 11, 13, 15, 17]\n",
      "For 18 pieces: [1, 3, 5, 7, 9, 11, 13, 15, 17]\n",
      "For 19 pieces: [0, 2, 4, 6, 8, 10, 12, 14, 16, 18]\n",
      "For 20 pieces: [0, 2, 4, 6, 8, 10, 12, 14, 16, 18, 20]\n",
      "Runtime: 70.992341 seconds\n"
     ]
    }
   ],
   "source": [
    "import numpy as np\n",
    "import matplotlib.pyplot as plt\n",
    "import time\n",
    "\n",
    "s = time.time()\n",
    "\n",
    "piece_range = range(2, 21)\n",
    "trials = 5000\n",
    "\n",
    "def remove(n, hat):\n",
    "    i = np.where(hat == n)[0]\n",
    "    if len(i) > 0: \n",
    "        hat = np.delete(hat, i[-1])\n",
    "    return hat\n",
    "\n",
    "def add(n, hat):\n",
    "    hat = np.append(hat, n)\n",
    "    return hat\n",
    "\n",
    "combs = {}\n",
    "\n",
    "for pieces in piece_range:\n",
    "    final_results = set()  # Use a set to avoid duplicates\n",
    "    for _ in range(trials):\n",
    "        hat = np.arange(1, pieces + 1)\n",
    "        while len(hat) > 1:\n",
    "            a = np.random.choice(hat)\n",
    "            hat = remove(a, hat)\n",
    "            if len(hat) == 0:\n",
    "                break\n",
    "            b = np.random.choice(hat)\n",
    "            hat = remove(b, hat)\n",
    "            c = abs(a - b)\n",
    "            hat = add(c, hat)\n",
    "        if len(hat) > 0:\n",
    "            final_results.add(hat[0])  # Directly add final result to the set\n",
    "\n",
    "    # Store the results for this number of pieces\n",
    "    combs[pieces] = sorted(final_results)\n",
    "\n",
    "# Display all combinations for each number of pieces\n",
    "print(\"All possible final results for each number of pieces:\")\n",
    "for pieces, results in combs.items():\n",
    "    print(f\"For {pieces} pieces: {results}\")\n",
    "\n",
    "f = time.time()\n",
    "e = f - s\n",
    "print(f\"Runtime: {e:.6f} seconds\")\n"
   ]
  },
  {
   "cell_type": "code",
   "execution_count": 90,
   "id": "f4ed5943-8729-44a1-99c4-e9d9ec072800",
   "metadata": {},
   "outputs": [
    {
     "name": "stdout",
     "output_type": "stream",
     "text": [
      "[277, 369, 143, 45, 3, 71, 31, 1183, 1013, 213, 751, 1037, 121, 243, 855, 129, 113, 1035, 39, 21, 243, 355, 25, 39, 459, 665, 503, 773, 137, 865, 95, 271, 465, 131, 253, 503, 161, 599, 193, 1323, 1409, 599, 753, 187, 377, 357, 141, 197, 31, 353, 175, 433, 127, 79, 1, 11, 269, 69, 321, 489, 229, 1325, 251, 971, 105, 193, 153, 283, 77, 115, 221, 171, 177, 1041, 535, 105, 411, 3, 825, 17, 221, 527, 163, 355, 375, 613, 31, 293, 143, 233, 275, 83, 81, 295, 183, 115, 131, 271, 447, 309]\n",
      "Mean of final results: 344.800000\n"
     ]
    },
    {
     "data": {
      "image/png": "[encoded data removed]",
      "text/plain": [
       "<Figure size 576x360 with 1 Axes>"
      ]
     },
     "metadata": {
      "needs_background": "light"
     },
     "output_type": "display_data"
    },
    {
     "name": "stdout",
     "output_type": "stream",
     "text": [
      "Runtime: 56.771806 seconds\n"
     ]
    }
   ],
   "source": [
    "import numpy as np\n",
    "import time\n",
    "s = time.time()\n",
    "\n",
    "pieces = 2025\n",
    "sims = 100\n",
    "results = []\n",
    "\n",
    "for _ in range(sims):\n",
    "    hat = list(range(1, pieces + 1))\n",
    "    \n",
    "    while len(hat) > 1:\n",
    "        a = np.random.choice(hat)\n",
    "        hat.remove(a)\n",
    "        \n",
    "        b = np.random.choice(hat)\n",
    "        hat.remove(b)\n",
    "        \n",
    "        c = abs(a - b)\n",
    "        hat.append(c)\n",
    "        \n",
    "    results.append(hat[0])\n",
    "\n",
    "print(results)\n",
    "print(f\"Mean of final results: {sum(results)/len(results):.6f}\")\n",
    "\n",
    "plt.figure(figsize=(8, 5))\n",
    "plt.hist(results, bins=15, edgecolor='black', alpha=0.7, density=True)\n",
    "plt.xlabel(\"Final Number\")\n",
    "plt.ylabel(\"Frequency\")\n",
    "plt.title(f\"Histogram of Final Results ({sims} Simulations)\")\n",
    "plt.grid(axis='y', linestyle='--', alpha=0.6)\n",
    "plt.show()\n",
    "\n",
    "f = time.time()\n",
    "e = f-s\n",
    "print(f\"Runtime: {e:.6f} seconds\")"
   ]
  }
 ],
 "metadata": {
  "kernelspec": {
   "display_name": "Python 3 (ipykernel)",
   "language": "python",
   "name": "python3"
  },
  "language_info": {
   "codemirror_mode": {
    "name": "ipython",
    "version": 3
   },
   "file_extension": ".py",
   "mimetype": "text/x-python",
   "name": "python",
   "nbconvert_exporter": "python",
   "pygments_lexer": "ipython3",
   "version": "3.9.7"
  }
 },
 "nbformat": 4,
 "nbformat_minor": 5
}
